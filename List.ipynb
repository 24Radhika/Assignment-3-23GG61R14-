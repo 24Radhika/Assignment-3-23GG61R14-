{
 "cells": [
  {
   "cell_type": "code",
   "execution_count": null,
   "metadata": {
    "id": "O5EuhFIFltyv"
   },
   "outputs": [],
   "source": []
  },
  {
   "cell_type": "code",
   "execution_count": null,
   "metadata": {
    "id": "dh1hBLkhzF1S"
   },
   "outputs": [],
   "source": [
    "friends = [\"radhika\"]"
   ]
  },
  {
   "cell_type": "code",
   "execution_count": null,
   "metadata": {
    "id": "O7QDQmCi6ttx"
   },
   "outputs": [],
   "source": [
    "import numpy as np\n",
    "import pandas as pd\n",
    "import matplotlib.pyplot as plt\n",
    "from IPython.display import Image\n",
    "from scipy import *\n",
    "import scipy.linalg as la\n",
    "from scipy.special import jn, yn, jn_zeros, yn_zeros"
   ]
  },
  {
   "cell_type": "code",
   "execution_count": null,
   "metadata": {
    "id": "1v_9h_pG6vA4"
   },
   "outputs": [],
   "source": []
  },
  {
   "cell_type": "markdown",
   "metadata": {
    "id": "Dqll4FpTlebO"
   },
   "source": [
    "## List Representation"
   ]
  },
  {
   "cell_type": "code",
   "execution_count": null,
   "metadata": {
    "id": "vDUNKODT6xcK"
   },
   "outputs": [],
   "source": [
    "friends = [\"Joseoph\", \"glenn\",\"sally\"] #list rep.\n",
    "carryon = [\"socks\", \"shirts\", \"perfume\"]\n",
    "print(friends)\n",
    "print(carryon)"
   ]
  },
  {
   "cell_type": "code",
   "execution_count": null,
   "metadata": {
    "colab": {
     "base_uri": "https://localhost:8080/"
    },
    "id": "OaZ6a5l_7Esg",
    "outputId": "94bb5351-45e5-426e-ff2c-5226e3f8fcf2"
   },
   "outputs": [
    {
     "name": "stdout",
     "output_type": "stream",
     "text": [
      "4\n",
      "['red', 'yellow', 'blue']\n",
      "['red', 24, 98.6]\n",
      "[1, [5, 6], 7]\n",
      "[]\n"
     ]
    }
   ],
   "source": [
    "x=2\n",
    "x=\"hello\"\n",
    "x=4\n",
    "print(x)\n",
    "print(['red','yellow', 'blue'])\n",
    "print(['red',24,98.6])\n",
    "print([ 1,[5,6],7])\n",
    "print([])"
   ]
  },
  {
   "cell_type": "code",
   "execution_count": null,
   "metadata": {
    "colab": {
     "base_uri": "https://localhost:8080/"
    },
    "id": "b_EM3QEF7KE1",
    "outputId": "c7dd3271-d35f-4174-83da-b52f595dca28"
   },
   "outputs": [
    {
     "name": "stdout",
     "output_type": "stream",
     "text": [
      "5\n",
      "blastoff\n",
      "6\n",
      "blastoff\n",
      "5\n",
      "blastoff\n",
      "4\n",
      "blastoff\n"
     ]
    }
   ],
   "source": [
    "for i in [5,6,5,4]:\n",
    "  print (i)\n",
    "  print(\"blastoff\")"
   ]
  },
  {
   "cell_type": "code",
   "execution_count": null,
   "metadata": {
    "colab": {
     "base_uri": "https://localhost:8080/"
    },
    "id": "S196N4hS8_ft",
    "outputId": "e4d312f2-2a13-44b7-e93e-e645e0995fe4"
   },
   "outputs": [
    {
     "name": "stdout",
     "output_type": "stream",
     "text": [
      "done\n",
      "done\n",
      "done\n"
     ]
    }
   ],
   "source": [
    "friends=['re','rf','rff']\n",
    "for freinds in friends:\n",
    "         print('done')"
   ]
  },
  {
   "cell_type": "code",
   "execution_count": null,
   "metadata": {
    "colab": {
     "base_uri": "https://localhost:8080/"
    },
    "id": "MnXkQGz59d0m",
    "outputId": "64b06d86-4e54-4237-8910-ff47dfd6c7e3"
   },
   "outputs": [
    {
     "name": "stdout",
     "output_type": "stream",
     "text": [
      "jenny\n"
     ]
    }
   ],
   "source": [
    "friends=['rad', 'sally', 'jenny']\n",
    "print(friends[2])"
   ]
  },
  {
   "cell_type": "code",
   "execution_count": null,
   "metadata": {
    "colab": {
     "base_uri": "https://localhost:8080/"
    },
    "id": "LbI-JnhE90-3",
    "outputId": "d2db7fcd-7c46-40f2-c558-1639f0a52478"
   },
   "outputs": [
    {
     "name": "stdout",
     "output_type": "stream",
     "text": [
      "banana\n"
     ]
    }
   ],
   "source": [
    "fruit=\"banana\"\n",
    "x=fruit.lower()\n",
    "print(x)"
   ]
  },
  {
   "cell_type": "code",
   "execution_count": null,
   "metadata": {
    "colab": {
     "base_uri": "https://localhost:8080/"
    },
    "id": "_QW8vGoC-Y-q",
    "outputId": "694c879b-8615-4ec5-d122-637340a66095"
   },
   "outputs": [
    {
     "name": "stdout",
     "output_type": "stream",
     "text": [
      "[2, 12, 12, 123]\n"
     ]
    }
   ],
   "source": [
    "lotto=[2,12,12,123,]\n",
    "print(lotto)\n"
   ]
  },
  {
   "cell_type": "code",
   "execution_count": null,
   "metadata": {
    "colab": {
     "base_uri": "https://localhost:8080/"
    },
    "id": "lmNLvBxo-zDY",
    "outputId": "2d02394f-f404-448f-fe66-6548b9c4c565"
   },
   "outputs": [
    {
     "name": "stdout",
     "output_type": "stream",
     "text": [
      "[2, 12, 28, 123]\n"
     ]
    }
   ],
   "source": [
    "lotto[2]=28\n",
    "print(lotto)"
   ]
  },
  {
   "cell_type": "code",
   "execution_count": null,
   "metadata": {
    "colab": {
     "base_uri": "https://localhost:8080/"
    },
    "id": "_OMX_2np-6AK",
    "outputId": "c39f398a-9bd2-4b83-fd5d-3ea2de87abaf"
   },
   "outputs": [
    {
     "name": "stdout",
     "output_type": "stream",
     "text": [
      "[2, 12, 28, 'radhika']\n"
     ]
    }
   ],
   "source": [
    "lotto[-1]=\"radhika\"\n",
    "print(lotto)"
   ]
  },
  {
   "cell_type": "code",
   "execution_count": null,
   "metadata": {
    "colab": {
     "base_uri": "https://localhost:8080/"
    },
    "id": "cuvcpxAl_GEM",
    "outputId": "bda5b964-348e-468e-abc4-b64db33b2bf0"
   },
   "outputs": [
    {
     "name": "stdout",
     "output_type": "stream",
     "text": [
      "[2, 12, 28, 'radhika', 'ree', 'ree']\n"
     ]
    }
   ],
   "source": [
    "lotto.append(\"ree\")\n",
    "print(lotto)"
   ]
  },
  {
   "cell_type": "code",
   "execution_count": null,
   "metadata": {
    "colab": {
     "base_uri": "https://localhost:8080/"
    },
    "id": "ldKbEtMx_73E",
    "outputId": "d1d18b3d-d650-447e-b32e-9d1e4bec5029"
   },
   "outputs": [
    {
     "data": {
      "text/plain": [
       "5"
      ]
     },
     "execution_count": 31,
     "metadata": {},
     "output_type": "execute_result"
    }
   ],
   "source": [
    "greet='hello'\n",
    "len(greet)"
   ]
  },
  {
   "cell_type": "code",
   "execution_count": null,
   "metadata": {
    "colab": {
     "base_uri": "https://localhost:8080/"
    },
    "id": "PaTFU-9iAKWw",
    "outputId": "70497adf-3c2c-4cfd-da2c-8e706c1b3571"
   },
   "outputs": [
    {
     "name": "stdout",
     "output_type": "stream",
     "text": [
      "4\n"
     ]
    }
   ],
   "source": [
    "x=[1,3,'jow',76]\n",
    "print(len(x))"
   ]
  },
  {
   "cell_type": "code",
   "execution_count": null,
   "metadata": {
    "colab": {
     "base_uri": "https://localhost:8080/"
    },
    "id": "djs2dI8FAYNm",
    "outputId": "153da78d-d8f7-4530-8ad6-060d59c82f55"
   },
   "outputs": [
    {
     "name": "stdout",
     "output_type": "stream",
     "text": [
      "range(0, 4)\n"
     ]
    }
   ],
   "source": [
    "print(range(4))"
   ]
  },
  {
   "cell_type": "code",
   "execution_count": null,
   "metadata": {
    "colab": {
     "base_uri": "https://localhost:8080/"
    },
    "id": "gzZ_rlx0Agxn",
    "outputId": "bb9c09cb-87a4-4b08-9a0f-bd06772e6083"
   },
   "outputs": [
    {
     "data": {
      "text/plain": [
       "range(0, 3)"
      ]
     },
     "execution_count": 33,
     "metadata": {},
     "output_type": "execute_result"
    }
   ],
   "source": [
    "range(len(x))"
   ]
  },
  {
   "cell_type": "code",
   "execution_count": null,
   "metadata": {
    "colab": {
     "base_uri": "https://localhost:8080/"
    },
    "id": "l2a_JmmsA4n4",
    "outputId": "56025995-2224-4baf-af91-17d5d4b87a8a"
   },
   "outputs": [
    {
     "name": "stdout",
     "output_type": "stream",
     "text": [
      "happy new year: zingya\n",
      "happy new year: zingya\n",
      "happy new year: zingya\n"
     ]
    }
   ],
   "source": [
    "fri = ['rad','zingya','zafira']\n",
    "for i in range(len(fri)):\n",
    "  friend = fri[1]\n",
    "  print ('happy new year:', friend)"
   ]
  },
  {
   "cell_type": "code",
   "execution_count": null,
   "metadata": {
    "colab": {
     "base_uri": "https://localhost:8080/"
    },
    "id": "olU7M9n1CHoo",
    "outputId": "72d29bff-09b4-47a7-d1f8-cdfb43297302"
   },
   "outputs": [
    {
     "name": "stdout",
     "output_type": "stream",
     "text": [
      "[1, 2, 3, 2, 5, 45]\n"
     ]
    }
   ],
   "source": [
    "a=[1,2,3]\n",
    "b=[2,5,45]\n",
    "c=a+b\n",
    "print(c)"
   ]
  },
  {
   "cell_type": "code",
   "execution_count": null,
   "metadata": {
    "id": "XH20LwArCWws"
   },
   "outputs": [],
   "source": [
    "d=[2,5]\n",
    "e=c+d"
   ]
  },
  {
   "cell_type": "code",
   "execution_count": null,
   "metadata": {
    "colab": {
     "base_uri": "https://localhost:8080/"
    },
    "id": "wRnj_6CHCkpu",
    "outputId": "9f8e619d-f25d-47b8-8a36-398a9368b151"
   },
   "outputs": [
    {
     "name": "stdout",
     "output_type": "stream",
     "text": [
      "[1, 2, 3, 2, 5, 45, 2, 5]\n"
     ]
    }
   ],
   "source": [
    "print(e)"
   ]
  },
  {
   "cell_type": "code",
   "execution_count": null,
   "metadata": {
    "colab": {
     "base_uri": "https://localhost:8080/"
    },
    "id": "a0WTaC3ACmpR",
    "outputId": "f473dd52-e33a-44b5-d628-f2f8199aaa6b"
   },
   "outputs": [
    {
     "data": {
      "text/plain": [
       "[45, 34]"
      ]
     },
     "execution_count": 40,
     "metadata": {},
     "output_type": "execute_result"
    }
   ],
   "source": [
    "t=[2,45,34,34,34]\n",
    "t[1:3]"
   ]
  },
  {
   "cell_type": "code",
   "execution_count": null,
   "metadata": {
    "colab": {
     "base_uri": "https://localhost:8080/"
    },
    "id": "idtJ1aQrDDNu",
    "outputId": "3802b0b1-99c3-4ebf-aa57-d6157c256dc1"
   },
   "outputs": [
    {
     "data": {
      "text/plain": [
       "[2, 34, 34]"
      ]
     },
     "execution_count": 41,
     "metadata": {},
     "output_type": "execute_result"
    }
   ],
   "source": [
    "t[0:5:2]"
   ]
  },
  {
   "cell_type": "code",
   "execution_count": null,
   "metadata": {
    "colab": {
     "base_uri": "https://localhost:8080/"
    },
    "id": "6mW_vHI6DMzb",
    "outputId": "2ec99cea-197c-43c4-bead-80fc20d1caeb"
   },
   "outputs": [
    {
     "data": {
      "text/plain": [
       "[2, 34, 34]"
      ]
     },
     "execution_count": 47,
     "metadata": {},
     "output_type": "execute_result"
    }
   ],
   "source": [
    "t[::2]"
   ]
  },
  {
   "cell_type": "code",
   "execution_count": null,
   "metadata": {
    "colab": {
     "base_uri": "https://localhost:8080/"
    },
    "id": "Nmm5JSWVDZrV",
    "outputId": "9aedb27b-2318-4407-f2e8-cd80bbbf0514"
   },
   "outputs": [
    {
     "data": {
      "text/plain": [
       "list"
      ]
     },
     "execution_count": 63,
     "metadata": {},
     "output_type": "execute_result"
    }
   ],
   "source": [
    "x=[1,3,4]\n",
    "type(x)"
   ]
  },
  {
   "cell_type": "code",
   "execution_count": null,
   "metadata": {
    "colab": {
     "base_uri": "https://localhost:8080/"
    },
    "id": "N8LM94aIEWwU",
    "outputId": "d60f3885-c720-4a2f-b78d-c54b3f9c5597"
   },
   "outputs": [
    {
     "name": "stdout",
     "output_type": "stream",
     "text": [
      "['book']\n",
      "['book', 99]\n",
      "['book', 99, 'cokkiii']\n"
     ]
    }
   ],
   "source": [
    "stuff= list()\n",
    "stuff.append('book')\n",
    "print(stuff)\n",
    "stuff.append(99)\n",
    "print(stuff)\n",
    "stuff.append('cokkiii')\n",
    "print(stuff)"
   ]
  },
  {
   "cell_type": "code",
   "execution_count": null,
   "metadata": {
    "colab": {
     "base_uri": "https://localhost:8080/"
    },
    "id": "bp3bSd4_EiFu",
    "outputId": "8143b682-86c5-4bb2-a05e-a00a7b0a0b69"
   },
   "outputs": [
    {
     "name": "stdout",
     "output_type": "stream",
     "text": [
      "['cokkiii']\n"
     ]
    }
   ],
   "source": [
    "stuff.remove('book')\n",
    "print(stuff)"
   ]
  },
  {
   "cell_type": "code",
   "execution_count": null,
   "metadata": {
    "colab": {
     "base_uri": "https://localhost:8080/"
    },
    "id": "gf3a-5qJFmoB",
    "outputId": "0a6e8a09-79e8-4aca-d365-267027664492"
   },
   "outputs": [
    {
     "data": {
      "text/plain": [
       "True"
      ]
     },
     "execution_count": 61,
     "metadata": {},
     "output_type": "execute_result"
    }
   ],
   "source": [
    "some=[1,34,12,1,21,\"radjika\"]\n",
    "1 in some #conditional operator\n",
    "2 not in some"
   ]
  },
  {
   "cell_type": "code",
   "execution_count": null,
   "metadata": {
    "colab": {
     "base_uri": "https://localhost:8080/"
    },
    "id": "TS2WQguGF-mn",
    "outputId": "556be723-0507-4cd4-a1a9-b4ec3888c7e9"
   },
   "outputs": [
    {
     "data": {
      "text/plain": [
       "True"
      ]
     },
     "execution_count": 62,
     "metadata": {},
     "output_type": "execute_result"
    }
   ],
   "source": [
    "'radjika' in some"
   ]
  },
  {
   "cell_type": "code",
   "execution_count": null,
   "metadata": {
    "colab": {
     "base_uri": "https://localhost:8080/"
    },
    "id": "zmbJ0OUKGU5E",
    "outputId": "e8a5f21d-6515-4576-acc1-3e1f01832221"
   },
   "outputs": [
    {
     "name": "stdout",
     "output_type": "stream",
     "text": [
      "['rad', 'zafira', 'zingya']\n"
     ]
    }
   ],
   "source": [
    "fri.sort()\n",
    "print(fri)"
   ]
  },
  {
   "cell_type": "code",
   "execution_count": null,
   "metadata": {
    "colab": {
     "base_uri": "https://localhost:8080/"
    },
    "id": "gY_EdDq3HB0A",
    "outputId": "f31aea9b-92c1-46f1-fa8e-42c260578baf"
   },
   "outputs": [
    {
     "name": "stdout",
     "output_type": "stream",
     "text": [
      "[1, 3, 22, 23, 32]\n"
     ]
    }
   ],
   "source": [
    "go=[1,22,3,23,32]\n",
    "go.sort()\n",
    "print(go)"
   ]
  },
  {
   "cell_type": "code",
   "execution_count": null,
   "metadata": {
    "colab": {
     "base_uri": "https://localhost:8080/"
    },
    "id": "WqaUk70mHjKX",
    "outputId": "0138c4ca-d3fe-4f87-fe19-7ce758ddf690"
   },
   "outputs": [
    {
     "name": "stdout",
     "output_type": "stream",
     "text": [
      "5\n"
     ]
    }
   ],
   "source": [
    "print (len(go))"
   ]
  },
  {
   "cell_type": "code",
   "execution_count": null,
   "metadata": {
    "colab": {
     "base_uri": "https://localhost:8080/"
    },
    "id": "7B9sseWPIKXs",
    "outputId": "84f8d435-0eac-4bd3-d867-14657621834f"
   },
   "outputs": [
    {
     "name": "stdout",
     "output_type": "stream",
     "text": [
      "32\n",
      "1\n",
      "81\n",
      "16.2\n"
     ]
    }
   ],
   "source": [
    "print(max(go))\n",
    "print(min(go))\n",
    "print(sum(go))\n",
    "print (sum(go)/len(go))\n"
   ]
  },
  {
   "cell_type": "code",
   "execution_count": null,
   "metadata": {
    "colab": {
     "base_uri": "https://localhost:8080/"
    },
    "id": "9NZXftbaIO6_",
    "outputId": "d4c25fc4-71f9-45b6-aa6d-4ac80070b00d"
   },
   "outputs": [
    {
     "name": "stdout",
     "output_type": "stream",
     "text": [
      "['i', 'am', 'goood']\n",
      "3\n",
      "i\n"
     ]
    }
   ],
   "source": [
    "abc=\"i am goood\"\n",
    "stuff=abc.split()\n",
    "print(stuff)\n",
    "print (len(stuff))\n",
    "print(stuff[0])"
   ]
  },
  {
   "cell_type": "code",
   "execution_count": null,
   "metadata": {
    "colab": {
     "base_uri": "https://localhost:8080/"
    },
    "id": "87ypdqLrL2ax",
    "outputId": "049ea042-4d7e-40b0-8722-d2579ed8c586"
   },
   "outputs": [
    {
     "name": "stdout",
     "output_type": "stream",
     "text": [
      "['A', 'lot', 'of', 'spaces']\n"
     ]
    }
   ],
   "source": [
    "line='A lot          of spaces'\n",
    "etc=line.split()\n",
    "print(etc)\n"
   ]
  },
  {
   "cell_type": "code",
   "execution_count": null,
   "metadata": {
    "colab": {
     "base_uri": "https://localhost:8080/"
    },
    "id": "WbASjY87MnLD",
    "outputId": "bd7205b1-6353-47ab-92a7-23704dec8590"
   },
   "outputs": [
    {
     "name": "stdout",
     "output_type": "stream",
     "text": [
      "['first;second;third']\n"
     ]
    }
   ],
   "source": [
    "line='first;second;third'\n",
    "thing=line.split()\n",
    "print(thing)"
   ]
  },
  {
   "cell_type": "code",
   "execution_count": null,
   "metadata": {
    "colab": {
     "base_uri": "https://localhost:8080/"
    },
    "id": "u3BG6NipM4RL",
    "outputId": "6689020f-3553-4f89-edb1-3c646c40a8e8"
   },
   "outputs": [
    {
     "name": "stdout",
     "output_type": "stream",
     "text": [
      "['first', 'second', 'third']\n",
      "3\n"
     ]
    }
   ],
   "source": [
    "thing=line.split(';')\n",
    "print(thing)\n",
    "print (len(thing))"
   ]
  },
  {
   "cell_type": "code",
   "execution_count": null,
   "metadata": {
    "id": "3_E7FuFANIbJ"
   },
   "outputs": [],
   "source": []
  }
 ],
 "metadata": {
  "colab": {
   "provenance": []
  },
  "kernelspec": {
   "display_name": "Python 3 (ipykernel)",
   "language": "python",
   "name": "python3"
  },
  "language_info": {
   "codemirror_mode": {
    "name": "ipython",
    "version": 3
   },
   "file_extension": ".py",
   "mimetype": "text/x-python",
   "name": "python",
   "nbconvert_exporter": "python",
   "pygments_lexer": "ipython3",
   "version": "3.11.5"
  }
 },
 "nbformat": 4,
 "nbformat_minor": 1
}
