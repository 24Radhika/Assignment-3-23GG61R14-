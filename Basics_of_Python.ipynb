{
 "cells": [
  {
   "cell_type": "code",
   "execution_count": null,
   "metadata": {
    "id": "VDnvODCKinYe"
   },
   "outputs": [],
   "source": []
  },
  {
   "cell_type": "markdown",
   "metadata": {
    "id": "HD7N3Ia2iwYE"
   },
   "source": [
    "## Strings\n"
   ]
  },
  {
   "cell_type": "code",
   "execution_count": 2,
   "metadata": {
    "colab": {
     "base_uri": "https://localhost:8080/"
    },
    "id": "M8GdVQYTi0QD",
    "outputId": "7f60741f-b240-4a24-cc3f-e8a2e8b790ba"
   },
   "outputs": [
    {
     "name": "stdout",
     "output_type": "stream",
     "text": [
      "hello\n",
      "<class 'str'>\n"
     ]
    }
   ],
   "source": [
    "s='hello'\n",
    "print(s)\n",
    "type(s)\n",
    "print(type(s))"
   ]
  },
  {
   "cell_type": "markdown",
   "metadata": {
    "id": "vM0dqTEKi-9g"
   },
   "source": [
    "## String Manupulation"
   ]
  },
  {
   "cell_type": "code",
   "execution_count": 3,
   "metadata": {
    "colab": {
     "base_uri": "https://localhost:8080/"
    },
    "id": "gcRiu81bi2rI",
    "outputId": "6e107c07-96fd-4ac2-9fdd-20bd9245ad9d"
   },
   "outputs": [
    {
     "name": "stdout",
     "output_type": "stream",
     "text": [
      "hello\n",
      "l\n",
      "h e l l o\n",
      "h e o l 5\n",
      "hello world\n"
     ]
    }
   ],
   "source": [
    "s=\"hello\"\n",
    "print(s)\n",
    "print(s[2])\n",
    "print(s[0],s[1],s[2],s[3],s[4])\n",
    "print(s[0],s[1],s[-1],s[-2],len(s))\n",
    "\n",
    "print(s+\" world\")\n"
   ]
  },
  {
   "cell_type": "code",
   "execution_count": null,
   "metadata": {
    "id": "dAcqtTRMjFsZ"
   },
   "outputs": [],
   "source": []
  },
  {
   "cell_type": "markdown",
   "metadata": {
    "id": "tloQ00QyjO3c"
   },
   "source": [
    "#string Slicing\n"
   ]
  },
  {
   "cell_type": "code",
   "execution_count": 4,
   "metadata": {
    "colab": {
     "base_uri": "https://localhost:8080/"
    },
    "id": "9z6N2r4fjRim",
    "outputId": "f8c3c817-8674-4c7b-c7b3-8eb313cea915"
   },
   "outputs": [
    {
     "name": "stdout",
     "output_type": "stream",
     "text": [
      "el\n",
      "\n",
      "\n",
      "ello\n",
      "\n",
      "\n",
      "el\n"
     ]
    }
   ],
   "source": [
    "s=\"Hello\"\n",
    "print(s[1:3])\n",
    "print('\\n')\n",
    "\n",
    "print(s[1:])\n",
    "print('\\n')\n",
    "\n",
    "print(s[-4:3])"
   ]
  },
  {
   "cell_type": "code",
   "execution_count": null,
   "metadata": {
    "id": "3te81KTgjlRp"
   },
   "outputs": [],
   "source": []
  },
  {
   "cell_type": "markdown",
   "metadata": {
    "id": "JCL2O62Hjplv"
   },
   "source": [
    "## String formatting"
   ]
  },
  {
   "cell_type": "code",
   "execution_count": 5,
   "metadata": {
    "colab": {
     "base_uri": "https://localhost:8080/"
    },
    "id": "a54qT7GYjsnR",
    "outputId": "1434f3d6-202f-4eec-e07d-745cde70d455"
   },
   "outputs": [
    {
     "name": "stdout",
     "output_type": "stream",
     "text": [
      "Hello world, 10\n",
      "Hello World, 10\n",
      "Hello World     , 10.000\n"
     ]
    }
   ],
   "source": [
    "str2='Hello {}, {}'.format('world',10)\n",
    "print(str2)\n",
    "\n",
    "str3 = 'Hello {wd}, {num}'.format(num=10, wd='World')\n",
    "print(str3)\n",
    "\n",
    "str4 = 'Hello {wd:10}, {num:.3f}'.format(num=10.0, wd='World')\n",
    "print(str4)"
   ]
  },
  {
   "cell_type": "code",
   "execution_count": null,
   "metadata": {
    "id": "6rbV_P7Bj-bo"
   },
   "outputs": [],
   "source": []
  },
  {
   "cell_type": "markdown",
   "metadata": {
    "id": "JD7UsNpWkAeB"
   },
   "source": [
    "## If statements\n"
   ]
  },
  {
   "cell_type": "code",
   "execution_count": 7,
   "metadata": {
    "colab": {
     "base_uri": "https://localhost:8080/"
    },
    "id": "10TdE_GZkGJ9",
    "outputId": "006256e1-0956-43de-a8fe-dd98592d86b2"
   },
   "outputs": [
    {
     "name": "stdout",
     "output_type": "stream",
     "text": [
      "num is greater than 5\n"
     ]
    }
   ],
   "source": [
    "num = 100\n",
    "if num < 5:\n",
    "  print('num is smaller than 5')\n",
    "\n",
    "if num > 5:\n",
    "  print('num is greater than 5')\n",
    "\n",
    "elif num == 5:\n",
    "  print('num is 5')\n",
    "\n",
    "else:\n",
    "  print('num is smaller than 5')"
   ]
  },
  {
   "cell_type": "markdown",
   "metadata": {
    "id": "ZvsKobT1kf-j"
   },
   "source": [
    "## def Functions"
   ]
  },
  {
   "cell_type": "code",
   "execution_count": 8,
   "metadata": {
    "colab": {
     "base_uri": "https://localhost:8080/"
    },
    "id": "g8ig1Vjzkll0",
    "outputId": "a9bfec87-3ebe-4220-cc09-cd6340da6460"
   },
   "outputs": [
    {
     "name": "stdout",
     "output_type": "stream",
     "text": [
      "I'm Radhika\n",
      "I'm Blah Blah Blah\n"
     ]
    }
   ],
   "source": [
    "def print_name():\n",
    "  print(\"I'm Radhika\")\n",
    "  print(\"I'm Blah Blah Blah\")\n",
    "\n",
    "print_name()"
   ]
  },
  {
   "cell_type": "code",
   "execution_count": 9,
   "metadata": {
    "colab": {
     "base_uri": "https://localhost:8080/"
    },
    "id": "jsc78xKIksxl",
    "outputId": "78da6b1f-af20-463a-ef11-89e099789e8f"
   },
   "outputs": [
    {
     "name": "stdout",
     "output_type": "stream",
     "text": [
      "SpamSpamSpamSpam\n",
      "SpamSpamSpamSpam\n"
     ]
    }
   ],
   "source": [
    "def print_twice(arg1):\n",
    "  print(arg1)\n",
    "  print(arg1)\n",
    "\n",
    "#print_twice(math.pi)\n",
    "print_twice('Spam' * 4)"
   ]
  },
  {
   "cell_type": "code",
   "execution_count": 10,
   "metadata": {
    "colab": {
     "base_uri": "https://localhost:8080/"
    },
    "id": "h40XsZVQkx-7",
    "outputId": "a5191137-f236-42ad-ce00-33c1cc27f4a0"
   },
   "outputs": [
    {
     "name": "stdout",
     "output_type": "stream",
     "text": [
      "Bing\n",
      "Bing\n",
      "None\n"
     ]
    }
   ],
   "source": [
    "#Function Returns\n",
    "def print_twice(arg1):\n",
    "  print(arg1)\n",
    "  print(arg1)\n",
    "\n",
    "result = print_twice('Bing')\n",
    "print(result)\n"
   ]
  },
  {
   "cell_type": "code",
   "execution_count": 11,
   "metadata": {
    "colab": {
     "base_uri": "https://localhost:8080/"
    },
    "id": "j9cMi98jkzDR",
    "outputId": "af7fbe67-7bbf-4928-e498-9ce9ccf03ff3"
   },
   "outputs": [
    {
     "data": {
      "text/plain": [
       "120"
      ]
     },
     "execution_count": 11,
     "metadata": {},
     "output_type": "execute_result"
    }
   ],
   "source": [
    "# Function Checking type of arguments-recursive\n",
    "def factorial (n):\n",
    "  if not isinstance(n, int):\n",
    "    print('Factorial is only defined for integers.')\n",
    "    return None\n",
    "  elif n < 0:\n",
    "   print('Factorial is not defined for negative integers.')\n",
    "   return None\n",
    "  elif n == 0:\n",
    "    return 1\n",
    "  else:\n",
    "    return n * factorial(n-1)\n",
    "\n",
    "factorial(5)"
   ]
  }
 ],
 "metadata": {
  "colab": {
   "provenance": []
  },
  "kernelspec": {
   "display_name": "Python 3 (ipykernel)",
   "language": "python",
   "name": "python3"
  },
  "language_info": {
   "codemirror_mode": {
    "name": "ipython",
    "version": 3
   },
   "file_extension": ".py",
   "mimetype": "text/x-python",
   "name": "python",
   "nbconvert_exporter": "python",
   "pygments_lexer": "ipython3",
   "version": "3.11.5"
  }
 },
 "nbformat": 4,
 "nbformat_minor": 1
}
